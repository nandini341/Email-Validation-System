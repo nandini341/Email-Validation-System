{
 "cells": [
  {
   "cell_type": "code",
   "execution_count": 3,
   "id": "67f8d577-d387-42f9-82e7-cb6820bff96f",
   "metadata": {},
   "outputs": [],
   "source": [
    "import pandas as pd\n",
    "\n",
    "# Load datasets\n",
    "emails_df = pd.read_csv('Emails.csv')\n",
    "spam_emails_df = pd.read_csv('spam_Emails_data.csv')\n",
    "\n",
    "# Standardize column names\n",
    "emails_df.columns = emails_df.columns.str.lower().str.strip()\n",
    "spam_emails_df.columns = spam_emails_df.columns.str.lower().str.strip()\n",
    "\n",
    "# Rename columns: 'text' to 'text', 'spam' to 'label'\n",
    "emails_df = emails_df.rename(columns={'text': 'text', 'spam': 'label'})\n",
    "\n",
    "# Replace 1 with \"spam\" and 0 with \"ham\" in 'label'\n",
    "emails_df['label'] = emails_df['label'].replace({1: 'spam', 0: 'ham', '1' : 'spam', '0' : 'ham'})\n",
    "spam_emails_df['label'] = spam_emails_df['label'].replace({1: 'spam', 0: 'ham', '1' : 'spam', '0' : 'ham'})\n",
    "\n",
    "# Merge datasets\n",
    "merged_df = pd.concat([emails_df, spam_emails_df], ignore_index=True)"
   ]
  },
  {
   "cell_type": "code",
   "execution_count": 5,
   "id": "5bb391ce-5611-4998-b01d-9c55d7138f1b",
   "metadata": {},
   "outputs": [],
   "source": [
    "# Save merged_df to validated_emails.csv\n",
    "merged_df.to_csv('validated_emails.csv', index=False)"
   ]
  },
  {
   "cell_type": "code",
   "execution_count": null,
   "id": "a5d93de5-27b9-429f-b218-3bb8e979ee63",
   "metadata": {},
   "outputs": [],
   "source": []
  }
 ],
 "metadata": {
  "kernelspec": {
   "display_name": "Python 3 (ipykernel)",
   "language": "python",
   "name": "python3"
  },
  "language_info": {
   "codemirror_mode": {
    "name": "ipython",
    "version": 3
   },
   "file_extension": ".py",
   "mimetype": "text/x-python",
   "name": "python",
   "nbconvert_exporter": "python",
   "pygments_lexer": "ipython3",
   "version": "3.12.6"
  }
 },
 "nbformat": 4,
 "nbformat_minor": 5
}
